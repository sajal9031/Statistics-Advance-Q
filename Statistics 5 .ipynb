{
 "cells": [
  {
   "cell_type": "markdown",
   "id": "a032f551-dae4-454a-b591-839ef276489c",
   "metadata": {},
   "source": [
    "1. What is Estimation Statistics? Explain point estimate and interval estimate."
   ]
  },
  {
   "cell_type": "markdown",
   "id": "cf264cc2-4b96-48c2-bc8e-0db7a203d5b9",
   "metadata": {},
   "source": [
    "Estimation is a branch of statistics that deals with the process of using sample data to estimate or infer the population parameters. In statistics, a parameter is a numerical value that describes some characteristic of the population. Estimation techniques are used when it is not practical or feasible to obtain information about the entire population.\n",
    "\n",
    "There are two types of estimation in statistics: point estimation and interval estimation.\n",
    "\n",
    "1. Point estimation:\n",
    "Point estimation involves using a single value to estimate the population parameter. The most commonly used point estimate is the sample mean, denoted by x̄. This estimate is used to estimate the population mean, μ. Other examples of point estimates include the sample proportion, denoted by p, which is used to estimate the population proportion, denoted by P.\n",
    "\n",
    "2. Interval estimation:\n",
    "Interval estimation involves using an interval or range of values to estimate the population parameter. The interval estimate is calculated based on the sample data and is typically expressed as a confidence interval. A confidence interval is a range of values that is likely to contain the population parameter with a certain degree of confidence.\n",
    "\n",
    "For example, a 95% confidence interval for the population mean, μ, is a range of values that is likely to contain the true value of μ with a 95% degree of confidence. The confidence interval is calculated based on the sample data and the standard error of the sample mean.\n",
    "\n",
    "In summary, estimation statistics involves using sample data to estimate population parameters. Point estimation involves using a single value to estimate the parameter, while interval estimation involves using an interval or range of values to estimate the parameter, typically expressed as a confidence interval."
   ]
  },
  {
   "cell_type": "code",
   "execution_count": null,
   "id": "6e301ae4-4edb-44ad-9f14-445ed0981fd4",
   "metadata": {},
   "outputs": [],
   "source": []
  },
  {
   "cell_type": "markdown",
   "id": "6a27abe7-3d3b-44a2-99e4-30b8b34c2dc2",
   "metadata": {},
   "source": [
    "2. Write a Python function to estimate the population mean using a sample mean and standard\n",
    "deviation."
   ]
  },
  {
   "cell_type": "code",
   "execution_count": 1,
   "id": "be58443c-1d63-44cb-a117-ce705b62c5f1",
   "metadata": {},
   "outputs": [],
   "source": [
    "def estimate_pop_mean(sample_mean, sample_std, sample_size):\n",
    "    import math\n",
    "    z_score = 1.96 # for a 95% confidence interval\n",
    "    margin_of_error = z_score * (sample_std / math.sqrt(sample_size))\n",
    "    lower_bound = sample_mean - margin_of_error\n",
    "    upper_bound = sample_mean + margin_of_error\n",
    "    return (lower_bound, upper_bound)"
   ]
  },
  {
   "cell_type": "markdown",
   "id": "5b945d69-97ad-4dd7-90f2-615b6c3af020",
   "metadata": {},
   "source": [
    "In this function, we use the formula for a confidence interval to estimate the population mean. We assume a 95% confidence interval (corresponding to a z-score of 1.96), but this can be adjusted depending on the desired level of confidence. The function takes in the sample mean, sample standard deviation, and sample size as inputs. It returns a tuple containing the lower and upper bounds of the estimated population mean."
   ]
  },
  {
   "cell_type": "code",
   "execution_count": 2,
   "id": "039d6e94-3482-4bdb-9d45-b20d99adaf7a",
   "metadata": {},
   "outputs": [
    {
     "name": "stdout",
     "output_type": "stream",
     "text": [
      "Estimated population mean: 10 +/- 0.55\n"
     ]
    }
   ],
   "source": [
    "# Example usage\n",
    "sample_mean = 10\n",
    "sample_std = 2\n",
    "sample_size = 50\n",
    "\n",
    "(lower_bound, upper_bound) = estimate_pop_mean(sample_mean, sample_std, sample_size)\n",
    "print(f\"Estimated population mean: {sample_mean} +/- {round((upper_bound - lower_bound)/2, 2)}\")"
   ]
  },
  {
   "cell_type": "code",
   "execution_count": null,
   "id": "4d8aea2b-96ec-43e0-8fcd-f2b2fa038f61",
   "metadata": {},
   "outputs": [],
   "source": []
  },
  {
   "cell_type": "markdown",
   "id": "935710db-5d3f-4726-8377-5a32cd7cc8aa",
   "metadata": {},
   "source": [
    "3. What is Hypothesis testing? Why is it used? State the importance of Hypothesis testing."
   ]
  },
  {
   "cell_type": "markdown",
   "id": "871c97c8-20e4-4722-a88a-ea86839f11cb",
   "metadata": {},
   "source": [
    "Hypothesis testing is a statistical method used to make decisions based on the analysis of data from a sample. In hypothesis testing, a hypothesis is formulated about a population parameter, and the aim is to determine whether the available data provides sufficient evidence to reject or fail to reject the hypothesis.\n",
    "\n",
    "Hypothesis testing involves the following steps:\n",
    "\n",
    "1. Formulating a null hypothesis (H0) and an alternative hypothesis (Ha).\n",
    "2. Selecting a significance level (alpha) that represents the acceptable probability of a Type I error (rejecting the null hypothesis when it is actually true).\n",
    "3. Calculating a test statistic based on the sample data.\n",
    "4. Determining the p-value, which represents the probability of obtaining a test statistic as extreme or more extreme than the observed value, assuming the null hypothesis is true.\n",
    "5. Comparing the p-value to the significance level, and making a decision whether to reject or fail to reject the null hypothesis.\n",
    "\n",
    "\n",
    "Hypothesis testing is used to make decisions about a population based on a sample, and is commonly used in scientific research, quality control, business decision making, and other fields. For example, a pharmaceutical company may conduct a hypothesis test to determine whether a new drug is effective, or a manufacturer may use hypothesis testing to determine whether a new process results in higher quality products.\n",
    "\n",
    "The importance of hypothesis testing lies in its ability to help researchers and decision makers make informed decisions based on data. Hypothesis testing allows us to draw conclusions about population parameters based on sample data, and provides a systematic way to determine whether observed differences are statistically significant or due to chance. By quantifying the degree of uncertainty in our conclusions, hypothesis testing helps us to make more accurate and reliable decisions."
   ]
  },
  {
   "cell_type": "code",
   "execution_count": null,
   "id": "4b26299c-79a3-4bd7-ad26-6ffef8acbfa2",
   "metadata": {},
   "outputs": [],
   "source": []
  },
  {
   "cell_type": "markdown",
   "id": "5fede1c7-752c-4c3d-90c2-2c8a619fa846",
   "metadata": {},
   "source": [
    "4. Create a hypothesis that states whether the average weight of male college students is greater than\n",
    "the average weight of female college students."
   ]
  },
  {
   "cell_type": "markdown",
   "id": "5250ad87-adf0-4171-ac10-11dd9f75daff",
   "metadata": {},
   "source": [
    "Here's an example hypothesis that states whether the average weight of male college students is greater than the average weight of female college students:\n",
    "\n",
    "Null hypothesis: The average weight of male college students is equal to or less than the average weight of female college students.\n",
    "\n",
    "\n",
    "Alternative hypothesis: The average weight of male college students is greater than the average weight of female college students.\n",
    "\n",
    "\n",
    "In this example, the null hypothesis represents the status quo or the default assumption, which is that there is no difference between the average weight of male and female college students. The alternative hypothesis, on the other hand, represents the research hypothesis, which proposes that there is a difference between the average weight of male and female college students, and that the average weight of male students is greater than that of female students.\n",
    "\n",
    "\n",
    "This hypothesis could be tested by collecting a sample of male and female college students, measuring their weights, and performing a hypothesis test to determine whether the observed difference in weights is statistically significant, or whether it is likely due to chance."
   ]
  },
  {
   "cell_type": "code",
   "execution_count": null,
   "id": "fa1fce53-8e67-4fca-8412-173868d6b43f",
   "metadata": {},
   "outputs": [],
   "source": []
  },
  {
   "cell_type": "markdown",
   "id": "208b2f39-9275-490b-8b82-9ee35f2ab091",
   "metadata": {},
   "source": [
    "5. Write a Python script to conduct a hypothesis test on the difference between two population means,\n",
    "given a sample from each population."
   ]
  },
  {
   "cell_type": "code",
   "execution_count": 1,
   "id": "b76c3e9d-d0f5-4a27-bef1-5459fb98e339",
   "metadata": {},
   "outputs": [
    {
     "name": "stdout",
     "output_type": "stream",
     "text": [
      "Sample 1 mean: 3.0\n",
      "Sample 2 mean: 6.0\n",
      "t-statistic: -1.8973665961010275\n",
      "p-value: 0.09434977284243756\n"
     ]
    }
   ],
   "source": [
    "import numpy as np\n",
    "from scipy import stats\n",
    "\n",
    "# Sample data from the two populations\n",
    "pop1 = np.array([1, 2, 3, 4, 5])\n",
    "pop2 = np.array([2, 4, 6, 8, 10])\n",
    "\n",
    "# Sample statistics\n",
    "sample1_mean = np.mean(pop1)\n",
    "sample2_mean = np.mean(pop2)\n",
    "sample1_std = np.std(pop1, ddof=1)\n",
    "sample2_std = np.std(pop2, ddof=1)\n",
    "n1 = len(pop1)\n",
    "n2 = len(pop2)\n",
    "\n",
    "# Calculate the test statistic\n",
    "t = (sample1_mean - sample2_mean) / np.sqrt((sample1_std**2 / n1) + (sample2_std**2 / n2))\n",
    "\n",
    "# Degrees of freedom\n",
    "df = n1 + n2 - 2\n",
    "\n",
    "# Calculate the p-value\n",
    "p_value = stats.t.sf(np.abs(t), df)*2\n",
    "\n",
    "# Print the results\n",
    "print('Sample 1 mean:', sample1_mean)\n",
    "print('Sample 2 mean:', sample2_mean)\n",
    "print('t-statistic:', t)\n",
    "print('p-value:', p_value)"
   ]
  },
  {
   "cell_type": "code",
   "execution_count": null,
   "id": "3bfee5b3-bd11-4162-b6d8-89e8af0e4e87",
   "metadata": {},
   "outputs": [],
   "source": []
  },
  {
   "cell_type": "markdown",
   "id": "ebeea69d-037e-4c21-9b78-67c6e66a584f",
   "metadata": {},
   "source": [
    "6. What is a null and alternative hypothesis? Give some examples."
   ]
  },
  {
   "cell_type": "markdown",
   "id": "ee7207f2-4747-4868-b234-9e6ba0cb995a",
   "metadata": {},
   "source": [
    "In statistics, the null hypothesis and the alternative hypothesis are two mutually exclusive statements used to test a hypothesis.\n",
    "\n",
    "The null hypothesis (H0) is a statement that assumes there is no significant relationship between two variables. This statement is usually the default or the starting point for any hypothesis test. The null hypothesis is usually denoted by \"H0.\"\n",
    "\n",
    "The alternative hypothesis (Ha) is a statement that assumes there is a significant relationship between two variables. This statement is the opposite of the null hypothesis and is usually what researchers are trying to prove. The alternative hypothesis is usually denoted by \"Ha.\"\n",
    "\n",
    "Here are some examples of null and alternative hypotheses:\n",
    "\n",
    "\n",
    "Example for a drug test:\n",
    "Null hypothesis: The drug has no effect on patients' symptoms.\n",
    "Alternative hypothesis: The drug has a significant effect on patients' symptoms.\n",
    "\n",
    "Example for a survey:\n",
    "\n",
    "    Null hypothesis: There is no difference in the opinions of men and women on a particular issue.\n",
    "Alternative hypothesis: There is a significant difference in the opinions of men and women on a particular issue.\n",
    "\n",
    "Example for a product testing:\n",
    "\n",
    "    Null hypothesis: The mean shelf life of a product is 12 months.\n",
    "Alternative hypothesis: The mean shelf life of a product is different from 12 months.\n",
    "\n",
    "In hypothesis testing, we use statistical methods to determine whether the null hypothesis can be rejected or not. If the evidence is strong enough, we reject the null hypothesis and accept the alternative hypothesis. If the evidence is not strong enough, we fail to reject the null hypothesis.\n",
    "\n",
    "\n",
    "\n",
    "\n"
   ]
  },
  {
   "cell_type": "code",
   "execution_count": null,
   "id": "e3a77d76-0298-4728-8433-7d5799b08241",
   "metadata": {},
   "outputs": [],
   "source": []
  },
  {
   "cell_type": "markdown",
   "id": "ed31c65b-d64e-434e-a3f0-7905041180b0",
   "metadata": {},
   "source": [
    "7. Write down the steps involved in hypothesis testing."
   ]
  },
  {
   "cell_type": "markdown",
   "id": "8e884512-7fa9-43b8-afdd-fbfcdcd8f6da",
   "metadata": {},
   "source": [
    "Hypothesis testing is a process used in statistics to evaluate whether there is enough evidence to reject or fail to reject the null hypothesis. Here are the general steps involved in hypothesis testing:\n",
    "\n",
    "\n",
    "1. State the null and alternative hypotheses: Begin by clearly defining the null and alternative hypotheses. The null hypothesis should be a statement of no difference or no effect, while the alternative hypothesis should be a statement of difference or effect.\n",
    "\n",
    "2. Set the level of significance: Choose the level of significance, which is the probability of rejecting the null hypothesis when it is true. Typically, the level of significance is set at 0.05 or 0.01.\n",
    "\n",
    "3. Choose the appropriate test statistic: Select the appropriate test statistic based on the type of data and the research question. This may involve choosing a t-test, z-test, chi-square test, or other statistical tests.\n",
    "\n",
    "4. Determine the critical value: Determine the critical value, which is the value of the test statistic that separates the rejection region from the non-rejection region. The critical value depends on the level of significance and the degrees of freedom.\n",
    "\n",
    "5. Collect data and calculate the test statistic: Collect the relevant data and calculate the test statistic using the chosen statistical method.\n",
    "\n",
    "6. Compare the test statistic to the critical value: Compare the test statistic to the critical value to determine whether the null hypothesis should be rejected or failed to be rejected. If the test statistic falls in the rejection region, the null hypothesis is rejected. If it falls in the non-rejection region, the null hypothesis is not rejected.\n",
    "\n",
    "7Interpret the results: Finally, interpret the results and draw conclusions based on the hypothesis test. If the null hypothesis is rejected, it means there is enough evidence to support the alternative hypothesis. If the null hypothesis is not rejected, it means there is not enough evidence to support the alternative hypothesis."
   ]
  },
  {
   "cell_type": "code",
   "execution_count": null,
   "id": "98b8037c-2e8f-4d68-a98c-21f4ecccb12b",
   "metadata": {},
   "outputs": [],
   "source": []
  },
  {
   "cell_type": "markdown",
   "id": "260009e1-3002-4ab0-b75b-5a11340beabf",
   "metadata": {},
   "source": [
    "8. Define p-value and explain its significance in hypothesis testing."
   ]
  },
  {
   "cell_type": "markdown",
   "id": "8b9724a2-3211-4f99-9736-51f6c305dc9a",
   "metadata": {},
   "source": [
    "In hypothesis testing, the p-value is a probability value that measures the strength of evidence against the null hypothesis. The p-value represents the probability of obtaining the observed results or more extreme results if the null hypothesis is true.\n",
    "\n",
    "If the p-value is less than or equal to the level of significance (α), then the null hypothesis is rejected, and the alternative hypothesis is accepted. Conversely, if the p-value is greater than the level of significance, then the null hypothesis is not rejected.\n",
    "\n",
    "The significance of the p-value in hypothesis testing can be explained as follows:\n",
    "\n",
    "1. The p-value represents the strength of evidence against the null hypothesis: A small p-value indicates that there is strong evidence against the null hypothesis, while a large p-value indicates weak evidence against the null hypothesis.\n",
    "\n",
    "2. The p-value is a measure of statistical significance: A p-value of less than or equal to the level of significance (α) indicates that the result is statistically significant, meaning that it is unlikely to have occurred by chance.\n",
    "\n",
    "3. The p-value is affected by the sample size and the effect size: Larger sample sizes generally result in smaller p-values, while larger effect sizes also result in smaller p-values.\n",
    "\n",
    "4. The p-value should not be interpreted as the probability of the alternative hypothesis: The p-value only represents the probability of obtaining the observed results or more extreme results if the null hypothesis is true. It does not represent the probability of the alternative hypothesis being true.\n",
    "\n",
    "In summary, the p-value is a crucial component of hypothesis testing as it provides a quantitative measure of the strength of evidence against the null hypothesis. It helps researchers determine whether their results are statistically significant and supports them in making informed decisions based on their research findings.\n",
    "\n",
    "\n",
    "\n"
   ]
  },
  {
   "cell_type": "code",
   "execution_count": null,
   "id": "a5ef451f-dd1c-4c21-b453-5d1e8f9fc208",
   "metadata": {},
   "outputs": [],
   "source": []
  },
  {
   "cell_type": "markdown",
   "id": "fddafbc2-4ee5-434d-928e-6e53e5f44c1b",
   "metadata": {},
   "source": [
    "9. Generate a Student's t-distribution plot using Python's matplotlib library, with the degrees of freedom\n",
    "parameter set to 10."
   ]
  },
  {
   "cell_type": "code",
   "execution_count": 1,
   "id": "daff64b4-1c10-4ab7-bd80-88fef38db4ed",
   "metadata": {},
   "outputs": [
    {
     "data": {
      "image/png": "[encoded data removed]",
      "text/plain": [
       "<Figure size 640x480 with 1 Axes>"
      ]
     },
     "metadata": {},
     "output_type": "display_data"
    }
   ],
   "source": [
    "import numpy as np\n",
    "import matplotlib.pyplot as plt\n",
    "from scipy.stats import t\n",
    "\n",
    "df = 10  # degrees of freedom\n",
    "\n",
    "# Generate x-values for the plot\n",
    "x = np.linspace(-5, 5, 1000)\n",
    "\n",
    "# Calculate y-values for the t-distribution\n",
    "y = t.pdf(x, df)\n",
    "\n",
    "# Plot the t-distribution\n",
    "plt.plot(x, y)\n",
    "\n",
    "# Add axis labels and a title\n",
    "plt.xlabel('x')\n",
    "plt.ylabel('f(x)')\n",
    "plt.title(f'Student\\'s t-Distribution with {df} Degrees of Freedom')\n",
    "\n",
    "# Show the plot\n",
    "plt.show()"
   ]
  },
  {
   "cell_type": "markdown",
   "id": "b6282494-ed12-4fab-9ae5-57153493eda7",
   "metadata": {},
   "source": [
    "This code first imports the necessary libraries (NumPy, matplotlib.pyplot, and scipy.stats.t), then sets the degrees of freedom parameter to 10. It then generates a range of x-values to plot the t-distribution over, calculates the corresponding y-values using the t.pdf() function from scipy.stats, and finally plots the t-distribution using matplotlib.pyplot.plot(). Finally, it adds axis labels and a title to the plot and shows it using matplotlib.pyplot.show()."
   ]
  },
  {
   "cell_type": "code",
   "execution_count": null,
   "id": "fcf3585a-a624-4e4e-94d1-8c2b387c26ae",
   "metadata": {},
   "outputs": [],
   "source": []
  },
  {
   "cell_type": "markdown",
   "id": "0717ab6c-e9d1-4729-84c0-3f1be3e87d5c",
   "metadata": {},
   "source": [
    "10. Write a Python program to calculate the two-sample t-test for independent samples, given two\n",
    "random samples of equal size and a null hypothesis that the population means are equal."
   ]
  },
  {
   "cell_type": "code",
   "execution_count": 2,
   "id": "898b41a2-5873-456f-9eed-4c39dceec1fa",
   "metadata": {},
   "outputs": [
    {
     "name": "stdout",
     "output_type": "stream",
     "text": [
      "Sample 1 mean: 4.812334307051863, Sample 1 standard deviation: 2.3278110986882545\n",
      "Sample 2 mean: 5.795688667337551, Sample 2 standard deviation: 2.1899126186243736\n",
      "The t-statistic is: -2.153779277724626\n",
      "The p-value is: 0.03371006922912647\n"
     ]
    }
   ],
   "source": [
    "import numpy as np\n",
    "from scipy.stats import ttest_ind\n",
    "\n",
    "# Generate two random samples of equal size\n",
    "sample1 = np.random.normal(loc=5, scale=2, size=50)\n",
    "sample2 = np.random.normal(loc=6, scale=2, size=50)\n",
    "\n",
    "# Print the mean and standard deviation of each sample\n",
    "print(f'Sample 1 mean: {np.mean(sample1)}, Sample 1 standard deviation: {np.std(sample1)}')\n",
    "print(f'Sample 2 mean: {np.mean(sample2)}, Sample 2 standard deviation: {np.std(sample2)}')\n",
    "\n",
    "# Perform a two-sample t-test assuming equal variances\n",
    "t_stat, p_value = ttest_ind(sample1, sample2)\n",
    "\n",
    "# Print the t-statistic and p-value\n",
    "print(f'The t-statistic is: {t_stat}')\n",
    "print(f'The p-value is: {p_value}')"
   ]
  },
  {
   "cell_type": "markdown",
   "id": "390f01d0-8fea-4091-85f3-ce0a5022d462",
   "metadata": {},
   "source": [
    "This code first generates two random samples of equal size using NumPy's random.normal() function. It then calculates and prints the mean and standard deviation of each sample to verify that they are different.\n",
    "\n",
    "Then, it performs a two-sample t-test assuming equal variances using the ttest_ind() function from the SciPy library. The t-test returns the t-statistic and the p-value, which are printed to the console.\n",
    "\n",
    "Note that if the two samples have unequal variances, the ttest_ind() function has an optional \"equal_var\" parameter that can be set to False to perform a Welch's t-test instead."
   ]
  },
  {
   "cell_type": "code",
   "execution_count": null,
   "id": "81d46fa0-d760-4058-abba-86928e12d057",
   "metadata": {},
   "outputs": [],
   "source": []
  },
  {
   "cell_type": "markdown",
   "id": "c6099906-7024-4ed4-a4e0-a53804aec6ac",
   "metadata": {},
   "source": [
    "11. What is Student’s t distribution? When to use the t-Distribution."
   ]
  },
  {
   "cell_type": "markdown",
   "id": "9c1af6fb-684d-48db-8f72-dabd0ef13958",
   "metadata": {},
   "source": [
    "Student’s t-distribution is a probability distribution that is widely used in statistics to estimate the confidence intervals and hypothesis testing of small sample sizes. It is similar to the standard normal distribution but has a heavier tail.\n",
    "\n",
    "The t-distribution arises when the population standard deviation is unknown and must be estimated from the sample data. It is defined by a single parameter, known as the degrees of freedom (df), which depend on the sample size.\n",
    "\n",
    "The t-distribution is used when the sample size is small and the population standard deviation is unknown. Specifically, it is used when:\n",
    "\n",
    "1. The sample size is less than 30, and the population standard deviation is unknown.\n",
    "2. The population is normally distributed or approximately normally distributed.\n",
    "3. The population standard deviation is unknown, and it is estimated using the sample standard deviation.\n",
    "\n",
    "The t-distribution is commonly used in statistical inference for testing hypotheses and constructing confidence intervals for population parameters, such as the population mean. The t-distribution is also used in the analysis of variance (ANOVA) and regression analysis.\n",
    "\n",
    "In summary, the t-distribution is a useful tool for making inferences about population parameters when the sample size is small and the population standard deviation is unknown."
   ]
  },
  {
   "cell_type": "code",
   "execution_count": null,
   "id": "4a0fe79a-e03b-473c-8a4b-5f3f1e4c78cf",
   "metadata": {},
   "outputs": [],
   "source": []
  },
  {
   "cell_type": "markdown",
   "id": "bd617028-6ab0-4966-9096-ac9f5084d646",
   "metadata": {},
   "source": [
    "12. What is t-statistic? State the formula for t-statistic."
   ]
  },
  {
   "cell_type": "markdown",
   "id": "332e863d-058d-40d3-b8bb-2b74f9ddb7ab",
   "metadata": {},
   "source": [
    "In statistics, the t-statistic is a measure of how different the means of two groups are relative to the variability within the groups. It is used in hypothesis testing to determine if the difference between the means of two groups is statistically significant.\n",
    "\n",
    "The formula for the t-statistic is:\n",
    "\n",
    "                               t = (x̄1 - x̄2) / (s√(1/n1 + 1/n2))\n",
    "\n",
    "where:\n",
    "\n",
    " x̄1 is the sample mean of the first group\n",
    "\n",
    "x̄2 is the sample mean of the second group\n",
    "\n",
    "s is the pooled standard deviation of the two groups\n",
    "\n",
    "n1 and n2 are the sample sizes of the first and second groups, respectively\n",
    "\n",
    "The t-statistic compares the difference between the sample means (x̄1 - x̄2) to the expected difference between the means under the null hypothesis, which is assumed to be zero. The denominator in the formula represents the standard error of the difference between the means, which is the standard deviation of the distribution of differences between the means.\n",
    "\n",
    "The t-statistic is used to calculate the p-value, which is the probability of obtaining a difference between the means as extreme or more extreme than the observed difference, assuming the null hypothesis is true. If the p-value is less than the significance level, typically 0.05, then the null hypothesis is rejected in favor of the alternative hypothesis, indicating that the difference between the means is statistically significant."
   ]
  },
  {
   "cell_type": "code",
   "execution_count": null,
   "id": "b7337849-1a4b-4994-997f-d879b5824fcd",
   "metadata": {},
   "outputs": [],
   "source": []
  },
  {
   "cell_type": "markdown",
   "id": "c2e5593e-07da-471e-a826-720db1d4d76e",
   "metadata": {},
   "source": [
    "13. A coffee shop owner wants to estimate the average daily revenue for their shop. They take a random\n",
    "    sample of 50 days and find the sample mean revenue to be 500 dollar  with a standard deviation of  50 dollar \n",
    ".\n",
    "    Estimate the population mean revenue with a 95% confidence interval."
   ]
  },
  {
   "cell_type": "markdown",
   "id": "50bf6761-4f49-4bc8-b9f8-81a90223b65f",
   "metadata": {},
   "source": [
    "To estimate the population mean revenue with a 95% confidence interval, we can use the t-distribution since the sample size is small and the population standard deviation is unknown.\n",
    "\n",
    "The formula for a confidence interval for the population mean is:\n",
    "\n",
    "CI = x̄ ± t*(s/√n)\n",
    "\n",
    "where:\n",
    "\n",
    "x̄ is the sample mean\n",
    "s is the sample standard deviation\n",
    "n is the sample size\n",
    "t is the critical value from the t-distribution with n-1 degrees of freedom and a desired confidence level\n",
    "Since we want a 95% confidence interval, the confidence level is 0.95, and the degrees of freedom is 50-1 = 49. From a t-table, the critical value for a two-tailed test with 49 degrees of freedom and a 95% confidence level is approximately 2.009.\n",
    "\n",
    "Substituting the given values into the formula, we get:\n",
    "\n",
    "CI = 500 ± 2.009*(50/√50)\n",
    "\n",
    "Simplifying the expression gives:\n",
    "\n",
    "CI = 500 ± 14.14\n",
    "\n",
    "Therefore, the 95% confidence interval for the population mean revenue is 485.86 dollar  to 514.14 dollar. We can be 95% confident that the true population mean revenue falls within this interval.\n",
    "\n",
    "\n",
    "\n",
    "\n",
    "\n"
   ]
  },
  {
   "cell_type": "code",
   "execution_count": null,
   "id": "8e36e684-9ac4-484b-8a33-c2e837f08282",
   "metadata": {},
   "outputs": [],
   "source": []
  },
  {
   "cell_type": "markdown",
   "id": "35944603-25a9-455e-935e-977e00f13372",
   "metadata": {},
   "source": [
    "14. A researcher hypothesizes that a new drug will decrease blood pressure by 10 mmHg. They conduct a\n",
    "    clinical trial with 100 patients and find that the sample mean decrease in blood pressure is 8 mmHg with a\n",
    "    standard deviation of 3 mmHg. Test the hypothesis with a significance level of 0.05."
   ]
  },
  {
   "cell_type": "code",
   "execution_count": null,
   "id": "f3db41e1-c264-4422-b1c9-e9584b642207",
   "metadata": {},
   "outputs": [],
   "source": []
  },
  {
   "cell_type": "markdown",
   "id": "d40321cf-6927-4f25-98d9-62112476ddb6",
   "metadata": {},
   "source": [
    "To test the hypothesis that the new drug decreases blood pressure by 10 mmHg, we can use a one-sample t-test with a significance level of 0.05. The null hypothesis is that the mean decrease in blood pressure is equal to 10 mmHg, while the alternative hypothesis is that the mean decrease in blood pressure is less than 10 mmHg.\n",
    "\n",
    "The formula for the t-statistic for a one-sample t-test is:\n",
    "\n",
    "t = (x̄ - μ) / (s/√n)\n",
    "\n",
    "where:\n",
    "\n",
    "x̄ is the sample mean\n",
    "μ is the hypothesized population mean\n",
    "s is the sample standard deviation\n",
    "n is the sample size\n",
    "Substituting the given values into the formula, we get:\n",
    "\n",
    "t = (8 - 10) / (3/√100) = -2.82\n",
    "\n",
    "The degrees of freedom for this test is n-1 = 99. From a t-table, the critical value for a one-tailed test with 99 degrees of freedom and a significance level of 0.05 is approximately -1.66.\n",
    "\n",
    "Since the calculated t-statistic (-2.82) is less than the critical value (-1.66), we reject the null hypothesis in favor of the alternative hypothesis. Therefore, we have evidence to suggest that the new drug decreases blood pressure by less than 10 mmHg.\n",
    "\n",
    "In other words, we can conclude that the sample mean decrease in blood pressure of 8 mmHg is statistically significantly lower than the hypothesized population mean decrease of 10 mmHg, at a significance level of 0.05."
   ]
  },
  {
   "cell_type": "code",
   "execution_count": null,
   "id": "3ac4fd66-662c-4df9-b4b1-e832283e41f5",
   "metadata": {},
   "outputs": [],
   "source": []
  },
  {
   "cell_type": "markdown",
   "id": "f44f1573-57fe-42dc-9caf-059bf2dc787f",
   "metadata": {},
   "source": [
    "15. An electronics company produces a certain type of product with a mean weight of 5 pounds and a\n",
    "    standard deviation of 0.5 pounds. A random sample of 25 products is taken, and the sample mean weight\n",
    "    is found to be 4.8 pounds. Test the hypothesis that the true mean weight of the products is less than 5\n",
    "    pounds with a significance level of 0.01."
   ]
  },
  {
   "cell_type": "markdown",
   "id": "6d62bab2-03d3-4db7-9838-8709efc726d7",
   "metadata": {},
   "source": [
    "To test the hypothesis that the true mean weight of the products is less than 5 pounds, we can use a one-sample t-test with a significance level of 0.01. The null hypothesis is that the mean weight of the products is equal to 5 pounds, while the alternative hypothesis is that the mean weight of the products is less than 5 pounds.\n",
    "\n",
    "The formula for the t-statistic for a one-sample t-test is:\n",
    "\n",
    "t = (x̄ - μ) / (s/√n)\n",
    "\n",
    "where:\n",
    "\n",
    "x̄ is the sample mean\n",
    "μ is the hypothesized population mean\n",
    "s is the sample standard deviation\n",
    "n is the sample size\n",
    "Substituting the given values into the formula, we get:\n",
    "\n",
    "t = (4.8 - 5) / (0.5/√25) = -2\n",
    "\n",
    "The degrees of freedom for this test is n-1 = 24. From a t-table, the critical value for a one-tailed test with 24 degrees of freedom and a significance level of 0.01 is approximately -2.492.\n",
    "\n",
    "Since the calculated t-statistic (-2) is greater than the critical value (-2.492), we fail to reject the null hypothesis. Therefore, we do not have enough evidence to suggest that the mean weight of the products is less than 5 pounds at a significance level of 0.01.\n",
    "\n",
    "In other words, we cannot conclude that the sample mean weight of 4.8 pounds is statistically significantly different from the hypothesized population mean of 5 pounds, at a significance level of 0.01."
   ]
  },
  {
   "cell_type": "code",
   "execution_count": null,
   "id": "47652bb1-b511-4a9b-80ea-9e99b2c39ea9",
   "metadata": {},
   "outputs": [],
   "source": []
  },
  {
   "cell_type": "markdown",
   "id": "bbd5283b-5c9b-4588-bd34-79dd2e934271",
   "metadata": {},
   "source": [
    "16. Two groups of students are given different study materials to prepare for a test. The first group (n1 =\n",
    "    30) has a mean score of 80 with a standard deviation of 10, and the second group (n2 = 40) has a mean\n",
    "    score of 75 with a standard deviation of 8. Test the hypothesis that the population means for the two\n",
    "    groups are equal with a significance level of 0.01."
   ]
  },
  {
   "cell_type": "markdown",
   "id": "8a9a3868-17dd-46d7-ade7-9e1e9529d97b",
   "metadata": {},
   "source": [
    "To test the hypothesis that the population means for the two groups are equal, we can use a two-sample t-test for independent samples with a significance level of 0.01. The null hypothesis is that the population means are equal, while the alternative hypothesis is that they are not equal.\n",
    "\n",
    "The formula for the t-statistic for a two-sample t-test for independent samples is:\n",
    "\n",
    "t = (x̄1 - x̄2 - (μ1 - μ2)) / se\n",
    "\n",
    "where:\n",
    "\n",
    "x̄1 and x̄2 are the sample means of the two groups\n",
    "μ1 and μ2 are the population means of the two groups (under the null hypothesis, these are assumed to be equal)\n",
    "se is the standard error, calculated as: se = √(s1^2/n1 + s2^2/n2)\n",
    "where:\n",
    "\n",
    "s1 and s2 are the sample standard deviations of the two groups\n",
    "n1 and n2 are the sample sizes of the two groups\n",
    "Substituting the given values into the formula, we get:\n",
    "\n",
    "t = (80 - 75 - 0) / √(10^2/30 + 8^2/40) = 2.56\n",
    "\n",
    "The degrees of freedom for this test is (n1 + n2 - 2) = (30 + 40 - 2) = 68. From a t-table, the critical value for a two-tailed test with 68 degrees of freedom and a significance level of 0.01 is approximately ±2.625.\n",
    "\n",
    "Since the calculated t-statistic (2.56) is less than the critical value (+2.625), we fail to reject the null hypothesis. Therefore, we do not have enough evidence to suggest that the population means for the two groups are statistically significantly different at a significance level of 0.01.\n",
    "\n",
    "In other words, we cannot conclude that there is a statistically significant difference between the mean scores of the two groups at a significance level of 0.01."
   ]
  },
  {
   "cell_type": "code",
   "execution_count": null,
   "id": "bb004375-3b0a-422f-b536-957c404c0e9e",
   "metadata": {},
   "outputs": [],
   "source": []
  },
  {
   "cell_type": "markdown",
   "id": "71831afa-669d-4d9a-bea9-34378d1522da",
   "metadata": {},
   "source": [
    "17. A marketing company wants to estimate the average number of ads watched by viewers during a TV\n",
    "    program. They take a random sample of 50 viewers and find that the sample mean is 4 with a standard\n",
    "    deviation of 1.5. Estimate the population mean with a 99% confidence interval."
   ]
  },
  {
   "cell_type": "markdown",
   "id": "08df057d-be89-4e86-b5d6-5e2f4a8e7ed0",
   "metadata": {},
   "source": [
    "To estimate the population mean with a 99% confidence interval, we can use the t-distribution since the population standard deviation is unknown and we have a sample size of 50. The formula for the confidence interval is:\n",
    "\n",
    "CI = x̄ ± tα/2 * (s / √n)\n",
    "\n",
    "where:\n",
    "\n",
    "x̄ is the sample mean\n",
    "tα/2 is the critical t-value for the desired confidence level and degrees of freedom\n",
    "s is the sample standard deviation\n",
    "n is the sample size\n",
    "Substituting the given values, we get:\n",
    "\n",
    "CI = 4 ± t0.005 * (1.5 / √50)\n",
    "\n",
    "where t0.005 is the critical t-value for a two-tailed test with 49 degrees of freedom and a significance level of 0.01 (since we want a 99% confidence level).\n",
    "\n",
    "We can find t0.005 using a t-table or a calculator and we get t0.005 ≈ 2.678.\n",
    "\n",
    "Substituting this value, we get:\n",
    "\n",
    "CI = 4 ± 2.678 * (1.5 / √50) = (3.39, 4.61)\n",
    "\n",
    "Therefore, we can say with 99% confidence that the population mean number of ads watched by viewers during a TV program lies between 3.39 and 4.61."
   ]
  },
  {
   "cell_type": "code",
   "execution_count": null,
   "id": "6babe8f4-499c-4948-855f-52e19640d8ca",
   "metadata": {},
   "outputs": [],
   "source": []
  },
  {
   "cell_type": "code",
   "execution_count": null,
   "id": "0072093a-6c35-4f43-81d7-b8311788f7c4",
   "metadata": {},
   "outputs": [],
   "source": []
  },
  {
   "cell_type": "code",
   "execution_count": null,
   "id": "ecde9dd1-9790-430f-9a09-1f18b377e07b",
   "metadata": {},
   "outputs": [],
   "source": []
  }
 ],
 "metadata": {
  "kernelspec": {
   "display_name": "Python 3 (ipykernel)",
   "language": "python",
   "name": "python3"
  },
  "language_info": {
   "codemirror_mode": {
    "name": "ipython",
    "version": 3
   },
   "file_extension": ".py",
   "mimetype": "text/x-python",
   "name": "python",
   "nbconvert_exporter": "python",
   "pygments_lexer": "ipython3",
   "version": "3.10.8"
  }
 },
 "nbformat": 4,
 "nbformat_minor": 5
}
